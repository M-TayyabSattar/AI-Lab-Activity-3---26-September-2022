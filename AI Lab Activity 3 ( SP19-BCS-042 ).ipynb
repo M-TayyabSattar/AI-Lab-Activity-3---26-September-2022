{
 "cells": [
  {
   "cell_type": "code",
   "execution_count": 1,
   "id": "93d3e93f",
   "metadata": {},
   "outputs": [],
   "source": [
    "class Node:\n",
    "    def __init__(self,state,parent,actions,totalCost):\n",
    "        self.state=state\n",
    "        self.parent=parent\n",
    "        self.actions=actions\n",
    "        self.totalCost=totalCost"
   ]
  },
  {
   "cell_type": "code",
   "execution_count": 2,
   "id": "e62d4b1d",
   "metadata": {},
   "outputs": [],
   "source": [
    "graph={'A':Node('A',None,['B','C','E'],None),\n",
    "       'B':Node('B',None,['A','D','E'],None),\n",
    "       'C':Node('C',None,['A','F','G'],None),\n",
    "       'D':Node('D',None,['B','E'],None),\n",
    "       'E':Node('E',None,['A','B','D'],None),\n",
    "       'F':Node('F',None,['C'],None),\n",
    "       'G':Node('G',None,['C'],None),\n",
    "      }"
   ]
  },
  {
   "cell_type": "code",
   "execution_count": 11,
   "id": "bee7385a",
   "metadata": {},
   "outputs": [
    {
     "ename": "IndentationError",
     "evalue": "expected an indented block (Temp/ipykernel_7376/3104693057.py, line 29)",
     "output_type": "error",
     "traceback": [
      "\u001b[1;36m  File \u001b[1;32m\"C:\\Users\\DELL\\AppData\\Local\\Temp/ipykernel_7376/3104693057.py\"\u001b[1;36m, line \u001b[1;32m29\u001b[0m\n\u001b[1;33m    return actionSequence(graph,initialState,goalState)\u001b[0m\n\u001b[1;37m    ^\u001b[0m\n\u001b[1;31mIndentationError\u001b[0m\u001b[1;31m:\u001b[0m expected an indented block\n"
     ]
    }
   ],
   "source": [
    "def BFS():\n",
    "    initialState='D'\n",
    "    goalState='F'\n",
    "    \n",
    "    graph={'A':Node('A',None,['B','C','E'],None),\n",
    "       'B':Node('B',None,['A','D','E'],None),\n",
    "       'C':Node('C',None,['A','F','G'],None),\n",
    "       'D':Node('D',None,['B','E'],None),\n",
    "       'E':Node('E',None,['A','B','D'],None),\n",
    "       'F':Node('F',None,['C'],None),\n",
    "       'G':Node('G',None,['C'],None),\n",
    "      }\n",
    "    \n",
    "    frontier=[initialState]\n",
    "    explored=[]\n",
    "    \n",
    "while len(frontier)!=0:\n",
    "    currentnode=frontier.pop(0)\n",
    "    \n",
    "    explored.append(currentnode)\n",
    "    \n",
    "    for child in graph [currentnode].actions:\n",
    "        if child not in frontier and child not in explored:\n",
    "            \n",
    "            graph[child].parent=currentnode\n",
    "            \n",
    "            if graph[child].state==goalstate:\n",
    "                \n",
    "                return actionSequence(graph,initialState,goalState)\n",
    "            \n",
    "            frontier.append(child)\n",
    "\n",
    "solution=BFS()\n",
    "print(solution)"
   ]
  },
  {
   "cell_type": "code",
   "execution_count": 7,
   "id": "ada78ee7",
   "metadata": {},
   "outputs": [],
   "source": [
    "def actionSeqence(graph,initialState,goalstate):\n",
    "    solution=[goalstate]\n",
    "    currentparent=graph[goalstate].parent\n",
    "    while currentparent!=None:\n",
    "        solution.append(currentparent)\n",
    "        currentparent=graph(currentparent).parent\n",
    "    solution.reverse()\n",
    "    return solution\n",
    "        "
   ]
  },
  {
   "cell_type": "code",
   "execution_count": null,
   "id": "4969cb76",
   "metadata": {},
   "outputs": [],
   "source": []
  }
 ],
 "metadata": {
  "kernelspec": {
   "display_name": "Python 3 (ipykernel)",
   "language": "python",
   "name": "python3"
  },
  "language_info": {
   "codemirror_mode": {
    "name": "ipython",
    "version": 3
   },
   "file_extension": ".py",
   "mimetype": "text/x-python",
   "name": "python",
   "nbconvert_exporter": "python",
   "pygments_lexer": "ipython3",
   "version": "3.9.7"
  }
 },
 "nbformat": 4,
 "nbformat_minor": 5
}
